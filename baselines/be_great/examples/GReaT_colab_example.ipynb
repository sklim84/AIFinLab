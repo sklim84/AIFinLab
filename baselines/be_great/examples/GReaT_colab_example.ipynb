{
 "cells": [
  {
   "cell_type": "markdown",
   "id": "684f7332-bf5e-432d-a489-3d3280dbf34b",
   "metadata": {},
   "source": [
    "# GReaT colab example\n",
    " \n",
    "**Please make sure you select a runtime with GPU**\n",
    "\n",
    "*(Runtime-> Change Runtime-> Hardware accelerator is set to GPU)*"
   ]
  },
  {
   "cell_type": "code",
   "execution_count": null,
   "id": "8dd8767c-90f9-42bd-8c00-2446f49cadc8",
   "metadata": {},
   "outputs": [],
   "source": [
    "!pip install be-great"
   ]
  },
  {
   "cell_type": "code",
   "id": "5226f2ed-11d6-47c2-b989-175e87940f7d",
   "metadata": {
    "jupyter": {
     "is_executing": true
    },
    "ExecuteTime": {
     "start_time": "2024-06-01T22:26:24.112220Z"
    }
   },
   "source": [
    "from be_great import GReaT\n",
    "from sklearn.datasets import fetch_california_housing\n",
    "\n",
    "data = fetch_california_housing(as_frame=True).frame\n",
    "\n",
    "model = GReaT(llm='distilgpt2', batch_size=64, epochs=1, save_steps=400000)\n",
    "model.fit(data)\n",
    "synthetic_data = model.sample(n_samples=100)"
   ],
   "outputs": [
    {
     "name": "stderr",
     "output_type": "stream",
     "text": [
      "/usr/bin/nvidia-modprobe: unrecognized option: \"-s\"\n",
      "\n",
      "ERROR: Invalid commandline, please run `/usr/bin/nvidia-modprobe --help`\n",
      "       for usage information.\n",
      "\n",
      "/usr/bin/nvidia-modprobe: unrecognized option: \"-s\"\n",
      "\n",
      "ERROR: Invalid commandline, please run `/usr/bin/nvidia-modprobe --help`\n",
      "       for usage information.\n",
      "\n",
      "/usr/bin/nvidia-modprobe: unrecognized option: \"-s\"\n",
      "\n",
      "ERROR: Invalid commandline, please run `/usr/bin/nvidia-modprobe --help`\n",
      "       for usage information.\n",
      "\n",
      "/usr/bin/nvidia-modprobe: unrecognized option: \"-s\"\n",
      "\n",
      "ERROR: Invalid commandline, please run `/usr/bin/nvidia-modprobe --help`\n",
      "       for usage information.\n",
      "\n",
      "WARNING:accelerate.utils.other:Detected kernel version 4.15.0, which is below the recommended minimum of 5.5.0; this can cause the process to hang. It is recommended to upgrade the kernel to the minimum version or higher.\n",
      "You're using a GPT2TokenizerFast tokenizer. Please note that with a fast tokenizer, using the `__call__` method is faster than using a method to encode the text followed by a call to the `pad` method to get a padded encoding.\n",
      "/home/bigdyl/anaconda3/envs/aifinlab/lib/python3.9/site-packages/torch/nn/parallel/_functions.py:68: UserWarning: Was asked to gather along dimension 0, but all input tensors were scalars; will instead unsqueeze and return a vector.\n",
      "  warnings.warn('Was asked to gather along dimension 0, but all '\n"
     ]
    }
   ],
   "execution_count": null
  }
 ],
 "metadata": {
  "kernelspec": {
   "display_name": "Python 3 (ipykernel)",
   "language": "python",
   "name": "python3"
  },
  "language_info": {
   "codemirror_mode": {
    "name": "ipython",
    "version": 3
   },
   "file_extension": ".py",
   "mimetype": "text/x-python",
   "name": "python",
   "nbconvert_exporter": "python",
   "pygments_lexer": "ipython3",
   "version": "3.9.13"
  }
 },
 "nbformat": 4,
 "nbformat_minor": 5
}
